{
 "cells": [
  {
   "cell_type": "markdown",
   "metadata": {},
   "source": [
    "# Elastic Search Indexing"
   ]
  },
  {
   "cell_type": "code",
   "execution_count": 1,
   "metadata": {},
   "outputs": [],
   "source": [
    "from elasticsearch import Elasticsearch"
   ]
  },
  {
   "cell_type": "code",
   "execution_count": 2,
   "metadata": {},
   "outputs": [
    {
     "data": {
      "text/plain": [
       "True"
      ]
     },
     "execution_count": 2,
     "metadata": {},
     "output_type": "execute_result"
    }
   ],
   "source": [
    "es = Elasticsearch(\n",
    "    \"https://localhost:9200\",\n",
    "    basic_auth=(\"elastic\",\"vVjobDUSY5XT2uQ8L9c8\"),\n",
    "    ca_certs=\"D:\\elasticsearch-8.9.1\\config\\certs\\http_ca.crt\"\n",
    ")\n",
    "es.ping()"
   ]
  },
  {
   "cell_type": "markdown",
   "metadata": {},
   "source": [
    "## Prepare the data"
   ]
  },
  {
   "cell_type": "code",
   "execution_count": 3,
   "metadata": {},
   "outputs": [
    {
     "data": {
      "text/html": [
       "<div>\n",
       "<style scoped>\n",
       "    .dataframe tbody tr th:only-of-type {\n",
       "        vertical-align: middle;\n",
       "    }\n",
       "\n",
       "    .dataframe tbody tr th {\n",
       "        vertical-align: top;\n",
       "    }\n",
       "\n",
       "    .dataframe thead th {\n",
       "        text-align: right;\n",
       "    }\n",
       "</style>\n",
       "<table border=\"1\" class=\"dataframe\">\n",
       "  <thead>\n",
       "    <tr style=\"text-align: right;\">\n",
       "      <th></th>\n",
       "      <th>ProductID</th>\n",
       "      <th>ProductName</th>\n",
       "      <th>ProductBrand</th>\n",
       "      <th>Gender</th>\n",
       "      <th>Price (INR)</th>\n",
       "      <th>NumImages</th>\n",
       "      <th>Description</th>\n",
       "      <th>PrimaryColor</th>\n",
       "    </tr>\n",
       "  </thead>\n",
       "  <tbody>\n",
       "    <tr>\n",
       "      <th>0</th>\n",
       "      <td>10017413</td>\n",
       "      <td>DKNY Unisex Black &amp; Grey Printed Medium Trolle...</td>\n",
       "      <td>DKNY</td>\n",
       "      <td>Unisex</td>\n",
       "      <td>11745</td>\n",
       "      <td>7</td>\n",
       "      <td>Black and grey printed medium trolley bag, sec...</td>\n",
       "      <td>Black</td>\n",
       "    </tr>\n",
       "    <tr>\n",
       "      <th>1</th>\n",
       "      <td>10016283</td>\n",
       "      <td>EthnoVogue Women Beige &amp; Grey Made to Measure ...</td>\n",
       "      <td>EthnoVogue</td>\n",
       "      <td>Women</td>\n",
       "      <td>5810</td>\n",
       "      <td>7</td>\n",
       "      <td>Beige &amp; Grey made to measure kurta with churid...</td>\n",
       "      <td>Beige</td>\n",
       "    </tr>\n",
       "    <tr>\n",
       "      <th>2</th>\n",
       "      <td>10009781</td>\n",
       "      <td>SPYKAR Women Pink Alexa Super Skinny Fit High-...</td>\n",
       "      <td>SPYKAR</td>\n",
       "      <td>Women</td>\n",
       "      <td>899</td>\n",
       "      <td>7</td>\n",
       "      <td>Pink coloured wash 5-pocket high-rise cropped ...</td>\n",
       "      <td>Pink</td>\n",
       "    </tr>\n",
       "    <tr>\n",
       "      <th>3</th>\n",
       "      <td>10015921</td>\n",
       "      <td>Raymond Men Blue Self-Design Single-Breasted B...</td>\n",
       "      <td>Raymond</td>\n",
       "      <td>Men</td>\n",
       "      <td>5599</td>\n",
       "      <td>5</td>\n",
       "      <td>Blue self-design bandhgala suitBlue self-desig...</td>\n",
       "      <td>Blue</td>\n",
       "    </tr>\n",
       "    <tr>\n",
       "      <th>4</th>\n",
       "      <td>10017833</td>\n",
       "      <td>Parx Men Brown &amp; Off-White Slim Fit Printed Ca...</td>\n",
       "      <td>Parx</td>\n",
       "      <td>Men</td>\n",
       "      <td>759</td>\n",
       "      <td>5</td>\n",
       "      <td>Brown and off-white printed casual shirt, has ...</td>\n",
       "      <td>White</td>\n",
       "    </tr>\n",
       "  </tbody>\n",
       "</table>\n",
       "</div>"
      ],
      "text/plain": [
       "   ProductID                                        ProductName ProductBrand  \\\n",
       "0   10017413  DKNY Unisex Black & Grey Printed Medium Trolle...         DKNY   \n",
       "1   10016283  EthnoVogue Women Beige & Grey Made to Measure ...   EthnoVogue   \n",
       "2   10009781  SPYKAR Women Pink Alexa Super Skinny Fit High-...       SPYKAR   \n",
       "3   10015921  Raymond Men Blue Self-Design Single-Breasted B...      Raymond   \n",
       "4   10017833  Parx Men Brown & Off-White Slim Fit Printed Ca...         Parx   \n",
       "\n",
       "   Gender  Price (INR)  NumImages  \\\n",
       "0  Unisex        11745          7   \n",
       "1   Women         5810          7   \n",
       "2   Women          899          7   \n",
       "3     Men         5599          5   \n",
       "4     Men          759          5   \n",
       "\n",
       "                                         Description PrimaryColor  \n",
       "0  Black and grey printed medium trolley bag, sec...        Black  \n",
       "1  Beige & Grey made to measure kurta with churid...        Beige  \n",
       "2  Pink coloured wash 5-pocket high-rise cropped ...         Pink  \n",
       "3  Blue self-design bandhgala suitBlue self-desig...         Blue  \n",
       "4  Brown and off-white printed casual shirt, has ...        White  "
      ]
     },
     "execution_count": 3,
     "metadata": {},
     "output_type": "execute_result"
    }
   ],
   "source": [
    "import pandas as pd\n",
    "\n",
    "df = pd.read_csv(\"myntra_products_catalog.csv\").loc[:499]\n",
    "df.head()"
   ]
  },
  {
   "cell_type": "code",
   "execution_count": 4,
   "metadata": {},
   "outputs": [
    {
     "data": {
      "text/plain": [
       "ProductID  ProductName  ProductBrand  Gender  Price (INR)  NumImages  Description  PrimaryColor\n",
       "False      False        False         False   False        False      False        False           468\n",
       "                                                                                   True             32\n",
       "dtype: int64"
      ]
     },
     "execution_count": 4,
     "metadata": {},
     "output_type": "execute_result"
    }
   ],
   "source": [
    "df.isna().value_counts()"
   ]
  },
  {
   "cell_type": "code",
   "execution_count": 5,
   "metadata": {},
   "outputs": [],
   "source": [
    "df.fillna(\"None\", inplace=True)"
   ]
  },
  {
   "cell_type": "markdown",
   "metadata": {},
   "source": [
    "## Convert the relevant field to Vector using BERT model"
   ]
  },
  {
   "cell_type": "code",
   "execution_count": 6,
   "metadata": {},
   "outputs": [],
   "source": [
    "from sentence_transformers import SentenceTransformer\n",
    "model = SentenceTransformer('all-mpnet-base-v2')"
   ]
  },
  {
   "cell_type": "code",
   "execution_count": 7,
   "metadata": {},
   "outputs": [],
   "source": [
    "df[\"DescriptionVector\"] = df[\"Description\"].apply(lambda x: model.encode(x))"
   ]
  },
  {
   "cell_type": "code",
   "execution_count": 8,
   "metadata": {},
   "outputs": [
    {
     "data": {
      "text/html": [
       "<div>\n",
       "<style scoped>\n",
       "    .dataframe tbody tr th:only-of-type {\n",
       "        vertical-align: middle;\n",
       "    }\n",
       "\n",
       "    .dataframe tbody tr th {\n",
       "        vertical-align: top;\n",
       "    }\n",
       "\n",
       "    .dataframe thead th {\n",
       "        text-align: right;\n",
       "    }\n",
       "</style>\n",
       "<table border=\"1\" class=\"dataframe\">\n",
       "  <thead>\n",
       "    <tr style=\"text-align: right;\">\n",
       "      <th></th>\n",
       "      <th>ProductID</th>\n",
       "      <th>ProductName</th>\n",
       "      <th>ProductBrand</th>\n",
       "      <th>Gender</th>\n",
       "      <th>Price (INR)</th>\n",
       "      <th>NumImages</th>\n",
       "      <th>Description</th>\n",
       "      <th>PrimaryColor</th>\n",
       "      <th>DescriptionVector</th>\n",
       "    </tr>\n",
       "  </thead>\n",
       "  <tbody>\n",
       "    <tr>\n",
       "      <th>0</th>\n",
       "      <td>10017413</td>\n",
       "      <td>DKNY Unisex Black &amp; Grey Printed Medium Trolle...</td>\n",
       "      <td>DKNY</td>\n",
       "      <td>Unisex</td>\n",
       "      <td>11745</td>\n",
       "      <td>7</td>\n",
       "      <td>Black and grey printed medium trolley bag, sec...</td>\n",
       "      <td>Black</td>\n",
       "      <td>[0.027645908, -0.0026341472, -0.0035884043, 0....</td>\n",
       "    </tr>\n",
       "    <tr>\n",
       "      <th>1</th>\n",
       "      <td>10016283</td>\n",
       "      <td>EthnoVogue Women Beige &amp; Grey Made to Measure ...</td>\n",
       "      <td>EthnoVogue</td>\n",
       "      <td>Women</td>\n",
       "      <td>5810</td>\n",
       "      <td>7</td>\n",
       "      <td>Beige &amp; Grey made to measure kurta with churid...</td>\n",
       "      <td>Beige</td>\n",
       "      <td>[-0.0246607, -0.028755339, -0.02033251, 0.0340...</td>\n",
       "    </tr>\n",
       "    <tr>\n",
       "      <th>2</th>\n",
       "      <td>10009781</td>\n",
       "      <td>SPYKAR Women Pink Alexa Super Skinny Fit High-...</td>\n",
       "      <td>SPYKAR</td>\n",
       "      <td>Women</td>\n",
       "      <td>899</td>\n",
       "      <td>7</td>\n",
       "      <td>Pink coloured wash 5-pocket high-rise cropped ...</td>\n",
       "      <td>Pink</td>\n",
       "      <td>[-0.046943255, 0.081827976, 0.048335165, -0.00...</td>\n",
       "    </tr>\n",
       "    <tr>\n",
       "      <th>3</th>\n",
       "      <td>10015921</td>\n",
       "      <td>Raymond Men Blue Self-Design Single-Breasted B...</td>\n",
       "      <td>Raymond</td>\n",
       "      <td>Men</td>\n",
       "      <td>5599</td>\n",
       "      <td>5</td>\n",
       "      <td>Blue self-design bandhgala suitBlue self-desig...</td>\n",
       "      <td>Blue</td>\n",
       "      <td>[-0.015098754, -0.010285422, 0.0094873, -0.023...</td>\n",
       "    </tr>\n",
       "    <tr>\n",
       "      <th>4</th>\n",
       "      <td>10017833</td>\n",
       "      <td>Parx Men Brown &amp; Off-White Slim Fit Printed Ca...</td>\n",
       "      <td>Parx</td>\n",
       "      <td>Men</td>\n",
       "      <td>759</td>\n",
       "      <td>5</td>\n",
       "      <td>Brown and off-white printed casual shirt, has ...</td>\n",
       "      <td>White</td>\n",
       "      <td>[-0.017746607, 0.0062096473, 0.021813972, 0.02...</td>\n",
       "    </tr>\n",
       "  </tbody>\n",
       "</table>\n",
       "</div>"
      ],
      "text/plain": [
       "   ProductID                                        ProductName ProductBrand  \\\n",
       "0   10017413  DKNY Unisex Black & Grey Printed Medium Trolle...         DKNY   \n",
       "1   10016283  EthnoVogue Women Beige & Grey Made to Measure ...   EthnoVogue   \n",
       "2   10009781  SPYKAR Women Pink Alexa Super Skinny Fit High-...       SPYKAR   \n",
       "3   10015921  Raymond Men Blue Self-Design Single-Breasted B...      Raymond   \n",
       "4   10017833  Parx Men Brown & Off-White Slim Fit Printed Ca...         Parx   \n",
       "\n",
       "   Gender  Price (INR)  NumImages  \\\n",
       "0  Unisex        11745          7   \n",
       "1   Women         5810          7   \n",
       "2   Women          899          7   \n",
       "3     Men         5599          5   \n",
       "4     Men          759          5   \n",
       "\n",
       "                                         Description PrimaryColor  \\\n",
       "0  Black and grey printed medium trolley bag, sec...        Black   \n",
       "1  Beige & Grey made to measure kurta with churid...        Beige   \n",
       "2  Pink coloured wash 5-pocket high-rise cropped ...         Pink   \n",
       "3  Blue self-design bandhgala suitBlue self-desig...         Blue   \n",
       "4  Brown and off-white printed casual shirt, has ...        White   \n",
       "\n",
       "                                   DescriptionVector  \n",
       "0  [0.027645908, -0.0026341472, -0.0035884043, 0....  \n",
       "1  [-0.0246607, -0.028755339, -0.02033251, 0.0340...  \n",
       "2  [-0.046943255, 0.081827976, 0.048335165, -0.00...  \n",
       "3  [-0.015098754, -0.010285422, 0.0094873, -0.023...  \n",
       "4  [-0.017746607, 0.0062096473, 0.021813972, 0.02...  "
      ]
     },
     "execution_count": 8,
     "metadata": {},
     "output_type": "execute_result"
    }
   ],
   "source": [
    "df.head()"
   ]
  },
  {
   "cell_type": "code",
   "execution_count": 9,
   "metadata": {},
   "outputs": [
    {
     "data": {
      "text/plain": [
       "True"
      ]
     },
     "execution_count": 9,
     "metadata": {},
     "output_type": "execute_result"
    }
   ],
   "source": [
    "es.ping()"
   ]
  },
  {
   "cell_type": "markdown",
   "metadata": {},
   "source": [
    "## Create new index in ElasticSearch!"
   ]
  },
  {
   "cell_type": "code",
   "execution_count": 14,
   "metadata": {},
   "outputs": [
    {
     "data": {
      "text/plain": [
       "ObjectApiResponse({'acknowledged': True, 'shards_acknowledged': True, 'index': 'all_products'})"
      ]
     },
     "execution_count": 14,
     "metadata": {},
     "output_type": "execute_result"
    }
   ],
   "source": [
    "from indexMapping import indexMapping\n",
    "\n",
    "es.indices.create(index=\"all_products\", mappings=indexMapping)"
   ]
  },
  {
   "cell_type": "markdown",
   "metadata": {},
   "source": [
    "## Ingest the data into index"
   ]
  },
  {
   "cell_type": "code",
   "execution_count": 11,
   "metadata": {},
   "outputs": [],
   "source": [
    "record_list = df.to_dict(\"records\")"
   ]
  },
  {
   "cell_type": "code",
   "execution_count": 12,
   "metadata": {},
   "outputs": [
    {
     "data": {
      "text/plain": [
       "{'ProductID': 10017413,\n",
       " 'ProductName': 'DKNY Unisex Black & Grey Printed Medium Trolley Bag',\n",
       " 'ProductBrand': 'DKNY',\n",
       " 'Gender': 'Unisex',\n",
       " 'Price (INR)': 11745,\n",
       " 'NumImages': 7,\n",
       " 'Description': 'Black and grey printed medium trolley bag, secured with a TSA lockOne handle on the top and one on the side, has a trolley with a retractable handle on the top and four corner mounted inline skate wheelsOne main zip compartment, zip lining, two compression straps with click clasps, one zip compartment on the flap with three zip pocketsWarranty: 5 yearsWarranty provided by Brand Owner / Manufacturer',\n",
       " 'PrimaryColor': ' Black',\n",
       " 'DescriptionVector': array([ 2.76459083e-02, -2.63414718e-03, -3.58840427e-03,  5.13588078e-02,\n",
       "         3.09661347e-02,  1.40507529e-02,  7.27060298e-03,  3.13872248e-02,\n",
       "        -6.23786747e-02, -3.82884312e-03,  3.15214097e-02,  7.55471736e-02,\n",
       "         2.12643459e-03,  4.64892797e-02,  5.07448576e-02, -1.71942003e-02,\n",
       "         1.22893145e-02, -1.95682924e-02, -9.64851901e-02,  3.52680334e-03,\n",
       "        -1.83508564e-02,  2.58225501e-02, -3.12243700e-02,  5.46112917e-02,\n",
       "         2.11241916e-02,  8.97171162e-03,  1.99166164e-02,  2.25222819e-02,\n",
       "         5.33207878e-03, -5.24597205e-02,  2.56655235e-02, -2.64644194e-02,\n",
       "         1.60459653e-02, -2.47584954e-02,  1.45433160e-06, -5.99339977e-02,\n",
       "        -4.21298184e-02, -5.82053373e-03, -1.85586363e-02, -6.88411891e-02,\n",
       "         4.52963039e-02,  7.06149172e-03,  3.00954841e-02, -7.18991533e-02,\n",
       "         2.67853253e-02, -6.78085163e-02,  1.52005730e-02,  7.82433972e-02,\n",
       "        -3.86550128e-02, -1.53425839e-02,  3.39756496e-02,  1.37782814e-02,\n",
       "        -1.47241354e-02, -2.74834526e-03,  2.31590234e-02, -4.98686135e-02,\n",
       "        -5.12828492e-03,  5.24751544e-02,  1.36131598e-02, -1.93230286e-02,\n",
       "        -2.72569880e-02,  4.11068313e-02,  4.80893850e-02, -2.70953849e-02,\n",
       "         4.11907956e-02,  4.60447334e-02, -6.37177452e-02,  1.31804794e-02,\n",
       "         1.30295265e-03,  4.09116521e-02,  6.41553849e-02, -4.79832999e-02,\n",
       "         1.10394740e-03,  7.25232959e-02, -7.41548865e-05,  2.57203472e-03,\n",
       "         2.96356399e-02,  2.96356324e-02,  1.66539997e-02,  1.16769271e-02,\n",
       "        -4.72040810e-02,  6.52726144e-02, -5.69467805e-02,  5.62868193e-02,\n",
       "         2.87739635e-02,  3.27831805e-02,  2.21507959e-02,  2.87625827e-02,\n",
       "         9.41020809e-03, -2.78682820e-02,  5.07245352e-03, -1.35144815e-02,\n",
       "         2.92993542e-02,  1.73486657e-02, -7.76378298e-03, -8.01694617e-02,\n",
       "         5.42521849e-02, -5.81912547e-02,  3.02955545e-02, -2.88303345e-02,\n",
       "         1.04822600e-02,  4.99632135e-02, -1.98193192e-02,  2.69687013e-03,\n",
       "        -5.78293251e-03,  3.49556096e-02, -1.04184086e-02, -1.53066916e-03,\n",
       "        -8.06272253e-02,  3.73889320e-02,  2.62705889e-02, -2.40433607e-02,\n",
       "        -4.65659276e-02,  3.46576571e-02, -3.50579396e-02,  2.76909620e-02,\n",
       "        -1.99475400e-02,  2.66633593e-02,  3.83038856e-02, -3.57963727e-03,\n",
       "        -1.11199133e-02, -3.43021266e-02, -5.00616059e-02, -2.43401807e-03,\n",
       "         2.01843120e-02, -4.51828502e-02, -4.48807813e-02, -4.15880755e-02,\n",
       "        -1.21017359e-02,  4.56552505e-02, -4.09716293e-02,  3.33762318e-02,\n",
       "         4.05118391e-02, -1.42122712e-02, -2.18980610e-02,  2.38488298e-02,\n",
       "        -3.59017178e-02, -3.51186693e-02, -5.59868440e-02, -2.04212405e-02,\n",
       "        -1.90296024e-03, -2.63333041e-02,  6.62041735e-03,  2.82202605e-02,\n",
       "        -3.89377363e-02, -3.85373011e-02,  3.99998538e-02,  3.73884966e-03,\n",
       "        -3.34510952e-02, -6.12203255e-02, -7.10495412e-02,  1.82613134e-02,\n",
       "         4.99361455e-02, -1.96538921e-02,  3.62079442e-02,  1.36305708e-02,\n",
       "         3.72649394e-02, -1.86512601e-02, -2.54693199e-02,  1.35054141e-02,\n",
       "         2.56374460e-02, -2.38314494e-02, -2.21330021e-02,  2.39104452e-03,\n",
       "        -5.98022304e-02, -2.13336255e-02, -9.58660990e-03, -6.31964626e-03,\n",
       "        -3.08500044e-02, -1.75864361e-02, -1.89545657e-02, -3.34729888e-02,\n",
       "        -2.12751632e-03, -3.45624145e-03, -1.71548631e-02,  7.40248933e-02,\n",
       "         3.30893160e-03, -5.94480634e-02, -4.20915075e-02, -4.85316617e-03,\n",
       "        -1.24044083e-02, -1.11631341e-01,  5.64271510e-02, -7.50049530e-03,\n",
       "        -2.17742892e-03, -8.79483856e-03, -5.20507619e-03,  2.68771104e-03,\n",
       "        -1.67976227e-02, -6.23680800e-02,  3.14838253e-02, -3.52154896e-02,\n",
       "         8.10609758e-02,  3.64167243e-02,  9.73866496e-04, -3.69658694e-02,\n",
       "         2.52881297e-03, -7.46890828e-02,  8.42567999e-03, -1.65020339e-02,\n",
       "        -7.72045627e-02, -1.85621865e-02,  5.66542242e-03, -1.47189973e-02,\n",
       "        -1.65352207e-02,  4.13800292e-02, -2.33762749e-02,  9.85999405e-03,\n",
       "        -5.00026941e-02,  4.48234472e-03,  3.75415459e-02,  2.56805532e-02,\n",
       "        -2.02896027e-03, -5.84917068e-02, -1.47918519e-02, -1.84918544e-03,\n",
       "         2.87931971e-02, -2.44094711e-02,  1.05893314e-02,  4.51087542e-02,\n",
       "         6.12144396e-02,  1.33142555e-02,  5.87451011e-02, -1.59004126e-02,\n",
       "         4.00180370e-02,  1.64473299e-02,  1.43469702e-02, -2.68046819e-02,\n",
       "         7.16700479e-02,  8.84745363e-03, -6.41266443e-03,  1.15750020e-03,\n",
       "        -3.68435271e-02,  2.93020085e-02, -3.14094983e-02, -6.79307291e-03,\n",
       "         8.94472301e-02,  5.99376075e-02, -8.24592356e-03,  2.58783866e-02,\n",
       "        -4.22716998e-02,  1.91917103e-02,  2.88733048e-04,  4.13902709e-03,\n",
       "        -5.83747402e-02,  6.08172342e-02, -3.75356004e-02, -3.70273776e-02,\n",
       "        -6.11727033e-03, -1.42938150e-02, -8.24458804e-03,  1.60563004e-03,\n",
       "         3.51404324e-02, -1.88067500e-02, -2.16341354e-02, -5.51069714e-02,\n",
       "        -5.03755687e-03,  3.81737053e-02,  2.06448827e-02,  2.99759698e-03,\n",
       "         2.01757215e-02, -8.43657088e-03,  3.04715685e-03, -2.86360551e-03,\n",
       "         5.25486581e-02,  1.00490183e-03,  5.10405153e-02,  9.56351496e-03,\n",
       "         1.99479070e-02, -3.06443051e-02, -6.84511662e-03, -1.10092508e-02,\n",
       "         1.72651447e-02, -9.95550025e-03, -1.40040359e-02, -4.78950329e-02,\n",
       "         4.48317342e-02,  2.99812527e-03, -5.05881710e-03, -1.37886656e-02,\n",
       "        -1.93421412e-02, -2.25321352e-02, -4.01583053e-02, -2.50679459e-02,\n",
       "        -1.73990298e-02,  7.81951845e-03, -4.38657217e-02,  1.10517405e-02,\n",
       "        -5.72642917e-03,  2.99920458e-02, -4.39986847e-02, -4.38939547e-04,\n",
       "        -6.25569792e-03, -3.10895368e-02,  1.94589868e-02, -2.74248105e-02,\n",
       "        -9.93125234e-03, -4.21830490e-02,  2.52597164e-02,  2.97783837e-02,\n",
       "         4.61617159e-03, -3.88785377e-02, -3.68001610e-02,  8.19746219e-03,\n",
       "        -1.57797872e-03, -3.11213755e-03,  2.27061324e-02, -3.63272689e-02,\n",
       "        -2.32268292e-02,  3.96531671e-02, -1.75962020e-02,  7.61351362e-03,\n",
       "        -4.49805781e-02, -9.71956924e-02,  6.55074744e-03, -4.07042876e-02,\n",
       "        -4.23452966e-02,  2.21425407e-02, -1.69916302e-02,  9.62368324e-02,\n",
       "        -4.27954048e-02,  2.88663339e-02,  3.25763337e-02, -1.60414465e-02,\n",
       "        -2.20179390e-02, -4.18680049e-02, -6.52636215e-02, -2.43135486e-02,\n",
       "         3.35064940e-02, -2.16999538e-02,  4.89503331e-02, -3.22210044e-02,\n",
       "         5.66819161e-02,  3.94777954e-02, -6.04452901e-02, -8.55641887e-02,\n",
       "        -4.11012582e-02, -5.89925982e-03,  4.48789150e-02,  3.86384353e-02,\n",
       "         2.37329938e-02, -3.74431117e-03, -7.40813976e-03, -3.48129123e-02,\n",
       "        -1.26407389e-02, -8.32106918e-02, -7.77608901e-03,  8.24034913e-04,\n",
       "        -2.08234582e-02,  4.96380590e-03,  1.02756852e-02,  7.34596997e-02,\n",
       "         4.56728302e-02, -1.11290598e-02, -8.89218354e-04,  3.50867175e-02,\n",
       "        -5.21463051e-04,  3.29105817e-02,  3.92490365e-02,  9.39375628e-03,\n",
       "        -3.05089168e-02,  1.42532242e-02, -1.87902915e-04,  1.48092154e-02,\n",
       "         3.88668366e-02,  2.09767539e-02,  1.69476382e-02,  6.42409697e-02,\n",
       "         1.02789896e-02,  1.05284108e-02,  4.56122644e-02,  4.24702205e-02,\n",
       "         3.24789211e-02,  3.20181958e-02, -2.87148263e-02, -7.86707737e-03,\n",
       "         9.84602328e-03,  4.08063903e-02, -1.92641690e-02, -6.10288186e-03,\n",
       "         5.00562228e-02,  1.64055713e-02,  4.35197391e-02, -1.09658223e-02,\n",
       "         3.21553312e-02, -3.21289785e-02,  4.05219337e-03, -1.42193064e-02,\n",
       "        -1.72176678e-02, -2.24060379e-02,  3.41360867e-02,  1.79262310e-02,\n",
       "        -8.28828570e-03,  5.04024737e-02, -3.55287753e-02,  2.78952885e-02,\n",
       "         2.46790075e-03, -2.67916149e-03, -3.25403474e-02,  1.17414780e-02,\n",
       "        -2.00907923e-02,  4.24936414e-02,  3.08380257e-02,  1.66972894e-02,\n",
       "         3.07387803e-02, -4.58764844e-02, -5.39869303e-03,  1.92521140e-02,\n",
       "        -2.37640627e-02, -4.52494547e-02, -3.50061506e-02, -6.26829127e-03,\n",
       "        -3.49792056e-02,  6.37186840e-02, -4.95002083e-02, -8.27830434e-02,\n",
       "         2.43394822e-03, -7.25408494e-02,  5.77692986e-02, -3.55351679e-02,\n",
       "         1.10673101e-03,  7.00691424e-04, -2.26268694e-02,  1.01695256e-02,\n",
       "         1.71284731e-02, -1.74754728e-02, -3.18570733e-02, -6.42487854e-02,\n",
       "        -3.10207345e-02, -3.18854749e-02,  3.82462405e-02,  3.10538560e-02,\n",
       "        -2.99190097e-02,  1.83081534e-02, -5.88303953e-02, -2.38675252e-02,\n",
       "         3.73598784e-02,  2.49050464e-02, -6.08941466e-02, -8.83552805e-03,\n",
       "        -4.21162248e-02, -4.55484577e-02, -1.47926081e-02, -2.38328818e-02,\n",
       "        -4.74843057e-03, -4.89294901e-02, -1.93929747e-02, -4.01563086e-02,\n",
       "        -8.04086961e-03, -7.47549832e-02,  2.10540672e-03,  1.64749864e-02,\n",
       "         8.30394179e-02,  1.55175505e-02,  4.70302589e-02, -4.48355749e-02,\n",
       "         5.50825447e-02, -7.38568157e-02, -3.09091806e-02,  1.67553909e-02,\n",
       "         5.06773666e-02,  2.49253083e-02, -7.24060461e-02,  3.98997404e-02,\n",
       "         2.13703839e-03, -1.89519282e-02, -1.86338387e-02,  1.30079584e-02,\n",
       "         1.97983477e-02, -3.67520116e-02, -4.02529053e-02, -4.21341229e-03,\n",
       "        -1.62019581e-02, -3.34674143e-03,  4.09931950e-02, -2.45059971e-02,\n",
       "        -1.03827259e-02, -4.73150909e-02,  5.08266948e-02, -5.92378015e-03,\n",
       "        -3.16216232e-04, -6.27382100e-03,  1.60506386e-02,  1.63368545e-02,\n",
       "         2.72355750e-02,  2.05409732e-02,  2.15955246e-02, -1.16070779e-02,\n",
       "         1.46542480e-02, -5.12824617e-02,  1.71000175e-02, -6.01727664e-02,\n",
       "        -1.86470207e-02, -1.95505563e-02,  5.43012209e-02,  1.48305103e-01,\n",
       "         6.39535859e-02, -4.22864733e-03,  2.49036513e-02, -5.27663045e-02,\n",
       "         8.22669081e-03,  3.78340185e-02, -6.19608583e-03, -3.93907614e-02,\n",
       "         3.58749330e-02,  1.18882032e-02,  2.66932435e-02,  1.62879024e-02,\n",
       "         6.09422140e-02, -1.60511844e-02,  3.50140937e-04,  2.91722137e-02,\n",
       "        -7.17697432e-03, -2.95379274e-02,  6.30705431e-02,  5.02149537e-02,\n",
       "        -5.33038788e-02, -9.42942500e-03,  1.98485665e-02, -2.10122280e-02,\n",
       "         3.09328306e-02, -1.42166214e-02,  3.32838632e-02,  2.94382405e-02,\n",
       "         1.26157831e-02,  4.95138243e-02,  1.15884896e-02,  2.58324901e-03,\n",
       "         4.47752774e-02,  5.12729622e-02, -2.06900910e-02, -8.23473558e-03,\n",
       "        -7.23873964e-03,  1.32843470e-02, -5.08004613e-02,  7.57652968e-02,\n",
       "        -8.74614418e-02,  4.24297526e-02,  1.12237278e-02,  9.69375687e-05,\n",
       "        -4.58215177e-02, -1.55912479e-02,  2.53331270e-02, -5.37831709e-03,\n",
       "        -3.63467087e-04,  3.69622186e-02, -4.63643335e-02, -1.23733911e-03,\n",
       "         5.76700233e-02, -7.09539726e-02,  1.54587086e-02, -6.11975417e-02,\n",
       "        -1.10918805e-01, -3.09236418e-03,  2.27634683e-02, -4.78635990e-33,\n",
       "         3.12270727e-02, -6.63603693e-02, -2.36832220e-02,  2.42750160e-02,\n",
       "        -2.04048865e-03, -4.47733235e-03,  4.22930764e-03, -4.12171008e-03,\n",
       "        -3.53075303e-02, -2.23746933e-02,  1.80854220e-02, -3.13034281e-03,\n",
       "         3.27593498e-02,  4.38900944e-03,  6.06583357e-02,  1.11367740e-02,\n",
       "         2.70508099e-02, -7.78134027e-03, -6.00770582e-03, -2.07057502e-02,\n",
       "        -3.77762243e-02, -9.80799366e-03,  4.01681215e-02,  3.02955043e-02,\n",
       "         5.43257557e-02, -9.85897854e-02, -2.94534746e-03,  2.91572623e-02,\n",
       "         3.44493799e-02, -8.56009964e-03, -7.64997303e-02,  2.66987900e-03,\n",
       "         2.50924919e-02,  3.52500230e-02,  5.67993559e-02,  2.29066275e-02,\n",
       "         5.05906045e-02, -4.30481061e-02,  3.37688699e-02,  9.36798472e-03,\n",
       "         1.14865778e-02, -5.23019135e-02, -1.63467545e-02, -1.74134374e-02,\n",
       "        -8.21256253e-05,  6.74261572e-03, -3.11616492e-02,  3.66182216e-02,\n",
       "        -3.53261828e-02,  1.54254762e-02,  6.49727136e-02,  1.90680008e-02,\n",
       "        -2.05425583e-02, -1.29935099e-02,  3.07242144e-02,  3.60369757e-02,\n",
       "        -7.30989454e-03, -3.42608579e-02,  3.69406082e-02, -1.68615095e-02,\n",
       "        -6.95912763e-02, -3.51376049e-02, -1.96793824e-02, -2.16357466e-02,\n",
       "        -1.91740822e-02, -7.22268829e-03, -9.27118212e-03,  3.80432643e-02,\n",
       "        -7.26440325e-02, -3.93156037e-02,  3.23898566e-04, -1.54596455e-02,\n",
       "        -5.66323586e-02, -2.86029298e-02, -3.38707455e-02, -8.40215757e-03,\n",
       "         3.27712558e-02, -1.23575795e-02,  5.67503460e-02,  1.07323520e-01,\n",
       "         1.62490748e-03,  1.98507551e-02, -4.92324829e-02,  4.31419909e-03,\n",
       "        -2.76763141e-02, -3.61421742e-02,  2.83705797e-02, -3.32536437e-02,\n",
       "         6.01911210e-02,  7.16084195e-03, -3.21193673e-02,  1.00305647e-01,\n",
       "         2.48313360e-02,  3.09539121e-02, -1.87181146e-03, -1.96664259e-02,\n",
       "         2.54117399e-02,  2.17062328e-02, -1.50588118e-02,  9.17000324e-03,\n",
       "         3.92969232e-03,  5.89960180e-02, -3.26567590e-02, -7.23024234e-02,\n",
       "         4.42396700e-02, -8.09963141e-03,  3.66033502e-02, -6.47038175e-03,\n",
       "        -5.15288673e-02,  5.74737601e-02,  3.27605270e-02, -3.47869620e-02,\n",
       "         1.15342799e-03, -5.10835201e-02, -2.02776678e-03, -1.37376748e-02,\n",
       "        -2.26375670e-03, -1.46535765e-02,  2.56580245e-02, -3.41950543e-02,\n",
       "         3.11359949e-02,  1.11530358e-02, -2.26282049e-02, -1.86224410e-04,\n",
       "        -3.42382491e-02, -3.47218849e-03,  7.12007657e-03,  2.85437927e-02,\n",
       "         3.43615822e-02,  4.17479090e-02,  1.46220578e-02, -1.00900875e-02,\n",
       "         2.19874607e-07,  1.26058265e-04, -3.26405987e-02,  2.73180380e-02,\n",
       "        -4.31562550e-02,  6.41151657e-03,  3.25414678e-03,  2.88387807e-03,\n",
       "         1.68630462e-02, -3.92219936e-03, -3.99216600e-02, -2.82338932e-02,\n",
       "         6.63914951e-03,  9.65183508e-03, -6.46991830e-04,  8.58047605e-02,\n",
       "        -5.46626002e-02,  9.56461802e-02, -3.35841551e-02, -3.86988744e-02,\n",
       "         1.08060790e-02,  8.10266882e-02,  4.47366666e-03,  5.54964989e-02,\n",
       "         2.06635650e-02, -1.76942945e-02, -7.89712444e-02, -9.13338922e-03,\n",
       "        -5.91490120e-02, -1.78459492e-02, -2.83569116e-02,  2.71814801e-02,\n",
       "         2.92244088e-02, -4.04383875e-02, -2.55332347e-02,  1.53778587e-02,\n",
       "         1.23813767e-02,  2.65146904e-02,  4.36860584e-02,  7.80087486e-02,\n",
       "         1.78200994e-02, -3.01126186e-02,  1.06306840e-02, -5.10762073e-02,\n",
       "        -1.62147284e-02,  2.78100092e-02,  5.96088618e-02, -1.07443072e-02,\n",
       "         5.74155711e-02, -4.65736650e-02,  4.81009902e-03,  3.75612602e-02,\n",
       "        -2.49797292e-02,  1.24980817e-02,  3.64437215e-02, -1.03775021e-02,\n",
       "         3.94603834e-02,  5.78910373e-02, -5.18749245e-02, -1.85877457e-02,\n",
       "        -3.52997100e-03, -2.97394469e-02,  4.59078141e-02,  1.81125989e-03,\n",
       "         8.85507464e-03,  5.07806018e-02,  4.10647271e-03,  5.75011084e-03,\n",
       "         1.64168508e-34, -4.68511879e-03, -6.60453783e-03,  2.19717864e-02,\n",
       "        -4.97994423e-02,  2.23752949e-02,  8.27608455e-04,  6.58981055e-02,\n",
       "        -3.05624753e-02,  8.99444800e-03, -3.16481479e-02, -3.01023703e-02],\n",
       "       dtype=float32)}"
      ]
     },
     "execution_count": 12,
     "metadata": {},
     "output_type": "execute_result"
    }
   ],
   "source": [
    "record_list[0]"
   ]
  },
  {
   "cell_type": "code",
   "execution_count": 15,
   "metadata": {},
   "outputs": [],
   "source": [
    "for record in record_list:\n",
    "    try:\n",
    "        es.index(index=\"all_products\", document=record, id=record[\"ProductID\"])\n",
    "    except Exception as e:\n",
    "        print(e)"
   ]
  },
  {
   "cell_type": "code",
   "execution_count": 16,
   "metadata": {},
   "outputs": [
    {
     "data": {
      "text/plain": [
       "ObjectApiResponse({'count': 500, '_shards': {'total': 1, 'successful': 1, 'skipped': 0, 'failed': 0}})"
      ]
     },
     "execution_count": 16,
     "metadata": {},
     "output_type": "execute_result"
    }
   ],
   "source": [
    "es.count(index=\"all_products\")"
   ]
  },
  {
   "cell_type": "markdown",
   "metadata": {},
   "source": [
    "## Search the data"
   ]
  },
  {
   "cell_type": "code",
   "execution_count": 17,
   "metadata": {},
   "outputs": [
    {
     "name": "stderr",
     "output_type": "stream",
     "text": [
      "C:\\Users\\yasha\\AppData\\Local\\Temp\\ipykernel_22404\\2784084207.py:11: ElasticsearchWarning: The kNN search API has been replaced by the `knn` option in the search API.\n",
      "  res = es.knn_search(index=\"all_products\", knn=query , source=[\"ProductName\",\"Description\"])\n"
     ]
    },
    {
     "data": {
      "text/plain": [
       "[{'_index': 'all_products',\n",
       "  '_id': '10018013',\n",
       "  '_score': 0.61429423,\n",
       "  '_source': {'ProductName': 'Puma Men Blue Sneakers',\n",
       "   'Description': 'A pair of round-toe blue sneakers, has regular styling, lace-up detailTextile upperCushioned footbedTextured and patterned outsoleWarranty: 3 monthsWarranty provided by brand/manufacturer'}},\n",
       " {'_index': 'all_products',\n",
       "  '_id': '10018075',\n",
       "  '_score': 0.61429423,\n",
       "  '_source': {'ProductName': 'Puma Men Blue Sneakers',\n",
       "   'Description': 'A pair of round-toe blue sneakers, has regular styling, lace-up detailTextile upperCushioned footbedTextured and patterned outsoleWarranty: 3 monthsWarranty provided by brand/manufacturer'}}]"
      ]
     },
     "execution_count": 17,
     "metadata": {},
     "output_type": "execute_result"
    }
   ],
   "source": [
    "input_keyword = \"Blue Shoes\"\n",
    "vector_of_input_keyword = model.encode(input_keyword)\n",
    "\n",
    "query = {\n",
    "    \"field\" : \"DescriptionVector\",\n",
    "    \"query_vector\" : vector_of_input_keyword,\n",
    "    \"k\" : 2,\n",
    "    \"num_candidates\" : 500, \n",
    "}\n",
    "\n",
    "res = es.knn_search(index=\"all_products\", knn=query , source=[\"ProductName\",\"Description\"])\n",
    "res[\"hits\"][\"hits\"]"
   ]
  },
  {
   "cell_type": "code",
   "execution_count": null,
   "metadata": {},
   "outputs": [],
   "source": []
  }
 ],
 "metadata": {
  "kernelspec": {
   "display_name": "Python 3 (ipykernel)",
   "language": "python",
   "name": "python3"
  },
  "language_info": {
   "codemirror_mode": {
    "name": "ipython",
    "version": 3
   },
   "file_extension": ".py",
   "mimetype": "text/x-python",
   "name": "python",
   "nbconvert_exporter": "python",
   "pygments_lexer": "ipython3",
   "version": "3.11.4"
  }
 },
 "nbformat": 4,
 "nbformat_minor": 2
}
